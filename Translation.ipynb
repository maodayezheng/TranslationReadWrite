{
 "cells": [
  {
   "cell_type": "markdown",
   "metadata": {},
   "source": [
    "# BLEU Score "
   ]
  },
  {
   "cell_type": "markdown",
   "metadata": {
    "collapsed": false
   },
   "source": [
    "|       |   Seq2Seq    | Seq2Seq + attetnion | ours | \n",
    "| -------| :-------------------------:| :------------------:|:------------:| \n",
    "|    4-gram bleu     | 0.308 |  0.328| 0.433 |\n",
    "\n"
   ]
  },
  {
   "cell_type": "markdown",
   "metadata": {},
   "source": [
    "# Model Dimension"
   ]
  },
  {
   "cell_type": "markdown",
   "metadata": {},
   "source": [
    "|       |   Embedding Dimension  | RNN Layers |Embedding Params| RNN Params |Other Params | \n",
    "| -------| :-------------------------:| :------------------:|:------------:|\n",
    "| Seq2Seq     | 620 |  3 | 74.4M|13.8M | 2.85M |\n",
    "| Seq2Seq + Attention       | 620 | 3|74.4M | 12.9M |3.0M|\n",
    "| Ours    | 620 | 3 |74.4M|13.8M |5.5M|\n",
    "\n",
    "\n",
    "\n"
   ]
  }
 ],
 "metadata": {
  "anaconda-cloud": {},
  "kernelspec": {
   "display_name": "Python [conda root]",
   "language": "python",
   "name": "conda-root-py"
  },
  "language_info": {
   "codemirror_mode": {
    "name": "ipython",
    "version": 3.0
   },
   "file_extension": ".py",
   "mimetype": "text/x-python",
   "name": "python",
   "nbconvert_exporter": "python",
   "pygments_lexer": "ipython3",
   "version": "3.5.2"
  }
 },
 "nbformat": 4,
 "nbformat_minor": 0
}